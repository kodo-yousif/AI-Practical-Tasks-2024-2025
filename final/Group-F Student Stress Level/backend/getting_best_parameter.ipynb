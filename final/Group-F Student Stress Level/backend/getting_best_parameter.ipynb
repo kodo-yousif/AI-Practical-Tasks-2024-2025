{
 "cells": [
  {
   "cell_type": "code",
   "execution_count": 1,
   "metadata": {},
   "outputs": [],
   "source": [
    "import os\n",
    "import random\n",
    "import numpy as np\n",
    "import pandas as pd\n",
    "\n",
    "# sklearn and imblearn\n",
    "from sklearn.model_selection import train_test_split, GridSearchCV\n",
    "from sklearn.impute import SimpleImputer\n",
    "from sklearn.preprocessing import StandardScaler, LabelEncoder\n",
    "from sklearn.metrics import (\n",
    "    confusion_matrix,\n",
    "    accuracy_score,\n",
    "    precision_score,\n",
    "    recall_score,\n",
    "    f1_score\n",
    ")\n",
    "from sklearn.svm import SVC\n",
    "from sklearn.neighbors import KNeighborsClassifier\n",
    "from sklearn.naive_bayes import GaussianNB\n",
    "from sklearn.neural_network import MLPClassifier\n",
    "\n",
    "from imblearn.over_sampling import SMOTE\n",
    "\n",
    "# For reproducibility\n",
    "def set_seed(seed_value=42):\n",
    "    os.environ['PYTHONHASHSEED'] = str(seed_value)\n",
    "    random.seed(seed_value)\n",
    "    np.random.seed(seed_value)\n",
    "    # If you use TensorFlow or PyTorch, set their seeds here as well.\n",
    "\n",
    "set_seed(42)\n"
   ]
  },
  {
   "cell_type": "code",
   "execution_count": 2,
   "metadata": {},
   "outputs": [],
   "source": [
    "# 1. Load the dataset\n",
    "df = pd.read_csv(\"dataset.csv\")  # Replace with your actual filename/path\n",
    "\n",
    "# 2. Identify your target column\n",
    "target_column = 'stress_level'\n",
    "if target_column not in df.columns:\n",
    "    raise ValueError(f\"'{target_column}' column not found in dataset columns: {df.columns.tolist()}\")\n",
    "\n",
    "# If target is categorical strings, label-encode\n",
    "if df[target_column].dtype == object:\n",
    "    le = LabelEncoder()\n",
    "    df[target_column] = le.fit_transform(df[target_column])\n",
    "\n",
    "# 3. Choose the features (X) vs. the target (y)\n",
    "X = df.drop(target_column, axis=1)\n",
    "y = df[target_column]\n",
    "\n",
    "# 4. Handle missing values if needed\n",
    "imputer = SimpleImputer(strategy='median')\n",
    "X_imputed = imputer.fit_transform(X)\n",
    "\n",
    "# 5. Scale the features\n",
    "scaler = StandardScaler()\n",
    "X_scaled = scaler.fit_transform(X_imputed)\n",
    "\n",
    "# 6. Handle class imbalance with SMOTE (optional, but recommended if classes are imbalanced)\n",
    "sm = SMOTE(random_state=42)\n",
    "X_resampled, y_resampled = sm.fit_resample(X_scaled, y)\n",
    "\n",
    "# 7. Train-test split\n",
    "X_train, X_test, y_train, y_test = train_test_split(\n",
    "    X_resampled,\n",
    "    y_resampled,\n",
    "    test_size=0.2,\n",
    "    random_state=42,\n",
    "    stratify=y_resampled\n",
    ")\n"
   ]
  },
  {
   "cell_type": "code",
   "execution_count": 3,
   "metadata": {},
   "outputs": [],
   "source": [
    "# Define models\n",
    "svm_model = SVC(probability=True, random_state=42)\n",
    "knn_model = KNeighborsClassifier()\n",
    "nb_model = GaussianNB()\n",
    "mlp_model = MLPClassifier(random_state=42, early_stopping=True)\n",
    "\n",
    "# Define parameter grids for each model\n",
    "param_grid_svm = {\n",
    "    'C': [0.1, 1, 10],\n",
    "    'kernel': ['rbf', 'poly'],\n",
    "    'gamma': ['scale', 'auto']\n",
    "}\n",
    "\n",
    "param_grid_knn = {\n",
    "    'n_neighbors': [3, 5, 7],\n",
    "    'weights': ['uniform', 'distance'],\n",
    "    'p': [1, 2]  # 1 for Manhattan, 2 for Euclidean\n",
    "}\n",
    "\n",
    "param_grid_nb = {\n",
    "    'var_smoothing': [1e-9, 1e-8, 1e-7]\n",
    "}\n",
    "\n",
    "param_grid_mlp = {\n",
    "    'hidden_layer_sizes': [(64, 32), (64, 32, 16)],\n",
    "    'activation': ['relu', 'tanh'],\n",
    "    'solver': ['adam', 'sgd'],\n",
    "    'max_iter': [200, 300]  # Increase if needed\n",
    "}\n",
    "\n",
    "# Set up the GridSearchCV for each model\n",
    "gs_svm = GridSearchCV(svm_model, param_grid_svm, cv=5, scoring='accuracy', n_jobs=-1)\n",
    "gs_knn = GridSearchCV(knn_model, param_grid_knn, cv=5, scoring='accuracy', n_jobs=-1)\n",
    "gs_nb = GridSearchCV(nb_model, param_grid_nb, cv=5, scoring='accuracy', n_jobs=-1)\n",
    "gs_mlp = GridSearchCV(mlp_model, param_grid_mlp, cv=5, scoring='accuracy', n_jobs=-1)\n"
   ]
  },
  {
   "cell_type": "code",
   "execution_count": 4,
   "metadata": {},
   "outputs": [
    {
     "name": "stdout",
     "output_type": "stream",
     "text": [
      "Running GridSearch for SVM...\n",
      "  Best Params: {'C': 0.1, 'gamma': 'scale', 'kernel': 'poly'}\n",
      "  Best CV Score: 0.8827\n",
      "  Test Accuracy: 0.8304\n",
      "\n",
      "Running GridSearch for KNN...\n",
      "  Best Params: {'n_neighbors': 5, 'p': 1, 'weights': 'uniform'}\n",
      "  Best CV Score: 0.8838\n",
      "  Test Accuracy: 0.8393\n",
      "\n",
      "Running GridSearch for NaiveBayes...\n",
      "  Best Params: {'var_smoothing': 1e-07}\n",
      "  Best CV Score: 0.8883\n",
      "  Test Accuracy: 0.8661\n",
      "\n",
      "Running GridSearch for MLPClassifier...\n",
      "  Best Params: {'activation': 'relu', 'hidden_layer_sizes': (64, 32), 'max_iter': 200, 'solver': 'sgd'}\n",
      "  Best CV Score: 0.8838\n",
      "  Test Accuracy: 0.8661\n",
      "\n"
     ]
    }
   ],
   "source": [
    "grid_searches = {\n",
    "    \"SVM\": gs_svm,\n",
    "    \"KNN\": gs_knn,\n",
    "    \"NaiveBayes\": gs_nb,\n",
    "    \"MLPClassifier\": gs_mlp\n",
    "}\n",
    "\n",
    "best_models = {}\n",
    "results = []\n",
    "\n",
    "for model_name, gs in grid_searches.items():\n",
    "    print(f\"Running GridSearch for {model_name}...\")\n",
    "    gs.fit(X_train, y_train)\n",
    "    best_models[model_name] = gs.best_estimator_\n",
    "    \n",
    "    # Evaluate on the test set\n",
    "    y_pred = gs.best_estimator_.predict(X_test)\n",
    "    acc = accuracy_score(y_test, y_pred)\n",
    "    prec = precision_score(y_test, y_pred, average='macro')\n",
    "    rec = recall_score(y_test, y_pred, average='macro')\n",
    "    f1 = f1_score(y_test, y_pred, average='macro')\n",
    "    \n",
    "    results.append({\n",
    "        \"model\": model_name,\n",
    "        \"best_params\": gs.best_params_,\n",
    "        \"best_cv_score\": gs.best_score_,\n",
    "        \"test_accuracy\": acc,\n",
    "        \"test_precision\": prec,\n",
    "        \"test_recall\": rec,\n",
    "        \"test_f1_score\": f1\n",
    "    })\n",
    "    \n",
    "    print(f\"  Best Params: {gs.best_params_}\")\n",
    "    print(f\"  Best CV Score: {gs.best_score_:.4f}\")\n",
    "    print(f\"  Test Accuracy: {acc:.4f}\\n\")\n"
   ]
  },
  {
   "cell_type": "code",
   "execution_count": 5,
   "metadata": {},
   "outputs": [
    {
     "name": "stdout",
     "output_type": "stream",
     "text": [
      "Best Overall Model: NaiveBayes\n"
     ]
    }
   ],
   "source": [
    "results_df = pd.DataFrame(results)\n",
    "results_df\n",
    "\n",
    "# Pick best model based on highest test accuracy (you can choose another metric if you want)\n",
    "best_overall = results_df.loc[results_df['test_accuracy'].idxmax()]\n",
    "best_model_name = best_overall['model']\n",
    "print(\"Best Overall Model:\", best_model_name)\n",
    "\n"
   ]
  },
  {
   "cell_type": "code",
   "execution_count": 6,
   "metadata": {},
   "outputs": [
    {
     "data": {
      "image/png": "[encoded data removed]",
      "text/plain": [
       "<Figure size 640x480 with 2 Axes>"
      ]
     },
     "metadata": {},
     "output_type": "display_data"
    }
   ],
   "source": [
    "from sklearn.metrics import ConfusionMatrixDisplay\n",
    "import matplotlib.pyplot as plt\n",
    "\n",
    "best_estimator = best_models[best_model_name]\n",
    "\n",
    "y_test_pred = best_estimator.predict(X_test)\n",
    "cm = confusion_matrix(y_test, y_test_pred)\n",
    "\n",
    "disp = ConfusionMatrixDisplay(confusion_matrix=cm)\n",
    "disp.plot(cmap=plt.cm.Blues)\n",
    "plt.title(f\"{best_model_name} - Confusion Matrix\")\n",
    "plt.show()\n"
   ]
  },
  {
   "cell_type": "code",
   "execution_count": 7,
   "metadata": {},
   "outputs": [
    {
     "name": "stdout",
     "output_type": "stream",
     "text": [
      "Predicted Class: 1, Confidence: 1.0000\n"
     ]
    }
   ],
   "source": [
    "# Example single sample, adjust values according to your dataset columns\n",
    "sample = {\n",
    "    \"anxiety_level\": 3.2,\n",
    "    \"self_esteem\": 2.1,\n",
    "    \"mental_health_history\": 1.0,\n",
    "    \"depression\": 4.0,\n",
    "    \"headache\": 2.3,\n",
    "    \"blood_pressure\": 120.0,\n",
    "    \"sleep_quality\": 6.0,\n",
    "    \"breathing_problem\": 0.0,\n",
    "    \"noise_level\": 3.0,\n",
    "    \"living_conditions\": 2.0,\n",
    "    \"safety\": 3.0,\n",
    "    \"basic_needs\": 2.0,\n",
    "    \"academic_performance\": 3.0,\n",
    "    \"study_load\": 4.0,\n",
    "    \"teacher_student_relationship\": 4.0,\n",
    "    \"future_career_concerns\": 3.0,\n",
    "    \"social_support\": 4.0,\n",
    "    \"peer_pressure\": 2.0,\n",
    "    \"extracurricular_activities\": 1.0,\n",
    "    \"bullying\": 0.0\n",
    "}\n",
    "\n",
    "# Convert to DataFrame\n",
    "sample_df = pd.DataFrame([sample])\n",
    "\n",
    "# Impute and scale (using the same pipeline from training)\n",
    "sample_imputed = imputer.transform(sample_df)\n",
    "sample_scaled = scaler.transform(sample_imputed)\n",
    "\n",
    "pred = best_estimator.predict(sample_scaled)[0]\n",
    "if hasattr(best_estimator, \"predict_proba\"):\n",
    "    probs = best_estimator.predict_proba(sample_scaled)[0]\n",
    "    confidence = probs[pred]\n",
    "else:\n",
    "    confidence = 1.0\n",
    "\n",
    "print(f\"Predicted Class: {pred}, Confidence: {confidence:.4f}\")\n"
   ]
  }
 ],
 "metadata": {
  "kernelspec": {
   "display_name": "Python 3",
   "language": "python",
   "name": "python3"
  },
  "language_info": {
   "codemirror_mode": {
    "name": "ipython",
    "version": 3
   },
   "file_extension": ".py",
   "mimetype": "text/x-python",
   "name": "python",
   "nbconvert_exporter": "python",
   "pygments_lexer": "ipython3",
   "version": "3.12.6"
  }
 },
 "nbformat": 4,
 "nbformat_minor": 4
}
